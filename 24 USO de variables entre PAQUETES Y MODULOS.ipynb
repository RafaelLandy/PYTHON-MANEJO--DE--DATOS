{
 "cells": [
  {
   "cell_type": "markdown",
   "metadata": {},
   "source": [
    "USO DE VARIABLES ENTRE MÓDULOS DE UN PAQUETE"
   ]
  },
  {
   "cell_type": "markdown",
   "metadata": {},
   "source": [
    "Este tutorial esta dirigido a documentar como se puede usar variables entre módulos de un paquete. Mediante el primer modulo creamos y asignamos valores a 2 variables para usar en un segundo modulo llamado adición, las funciones de cada modulo se ejecuta a traves del modulo principal.py"
   ]
  },
  {
   "cell_type": "markdown",
   "metadata": {},
   "source": [
    "La clave del uso de las variables entre modulos de un paquete es el uso de la palabra reservada  \"global\" para definir variables globales. \n",
    "En primer lugar debemos crear el paquete, que es un directorio o carpeta con varios archivos .py que se denominan módulos y dentro de ellos estarán las funciones entoces creamos dentro de una carpeta los siguientes archivos __init__.py ; ingreso_datos.py; adicion.py; principal.py.\n",
    "En el archivo __init__.py no se escribe ningún código, solo se crea ese archivo para que python reconozca a la carpeta como un paquete.\n",
    "Los otros archivos deberán tener el siguiente código (usado como ejemplo)"
   ]
  },
  {
   "cell_type": "code",
   "execution_count": 1,
   "metadata": {},
   "outputs": [],
   "source": [
    "# ingreso_datos.py\n",
    "def defdatos():\n",
    "    global a # se define a como variable global\n",
    "    global b\n",
    "    a=int(input(\"ingresa el 1 numero\"))\n",
    "    b=int(input(\"ingresa el 2 numero\"))\n",
    "    print(\"Para verificar\",a,b)\n",
    "   "
   ]
  },
  {
   "cell_type": "markdown",
   "metadata": {},
   "source": [
    "El siguiente archivo debe tener"
   ]
  },
  {
   "cell_type": "code",
   "execution_count": 2,
   "metadata": {},
   "outputs": [],
   "source": [
    "# adicion.py \n",
    "def suma():\n",
    "    from ingreso_datos import a, b # importamos a y b del modulo ingreso_datos\n",
    "    suma=a+b\n",
    "    print (\"la suma es\",suma)"
   ]
  },
  {
   "cell_type": "markdown",
   "metadata": {},
   "source": [
    "Finalmente escribimos el codigo o programa principal para llamar a las funciones, primero para ingreso de variables y luego para usar esas variables"
   ]
  },
  {
   "cell_type": "code",
   "execution_count": null,
   "metadata": {},
   "outputs": [],
   "source": [
    "# principal.py\n",
    "def main():\n",
    "    import ingreso_datos #importamos módulo \n",
    "    import adicion #importamos módulo \n",
    "    ingreso_datos.defdatos() # ejecutamos función defdatos del modulo ingreso_datos\n",
    "    adicion.suma() # ejecutamos función suma del modulo adicion\n",
    "\n",
    "    \n",
    "\"\"\"Ejecuto el programa principal\"\"\"   \n",
    "main()\n"
   ]
  },
  {
   "cell_type": "markdown",
   "metadata": {},
   "source": [
    "RECUERDEN CADA MODULO ES UN ARCHIVO DIFERENTE .py"
   ]
  }
 ],
 "metadata": {
  "kernelspec": {
   "display_name": "Python 3.8.8 64-bit",
   "language": "python",
   "name": "python3"
  },
  "language_info": {
   "codemirror_mode": {
    "name": "ipython",
    "version": 3
   },
   "file_extension": ".py",
   "mimetype": "text/x-python",
   "name": "python",
   "nbconvert_exporter": "python",
   "pygments_lexer": "ipython3",
   "version": "3.8.8"
  },
  "orig_nbformat": 4,
  "vscode": {
   "interpreter": {
    "hash": "b7c15d1b015202e5d3eaba9c2f1233e7a242cab053665d98c103a75cb2423c93"
   }
  }
 },
 "nbformat": 4,
 "nbformat_minor": 2
}
