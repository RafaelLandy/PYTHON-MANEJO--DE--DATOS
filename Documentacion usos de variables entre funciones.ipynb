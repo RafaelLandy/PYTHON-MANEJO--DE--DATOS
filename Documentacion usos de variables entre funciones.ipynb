{
 "cells": [
  {
   "cell_type": "markdown",
   "metadata": {},
   "source": [
    "PYTHON USO DE VARIABLES ENTRE FUNCIONES,  ENTRE PAQUETES Y MODULOS"
   ]
  },
  {
   "cell_type": "markdown",
   "metadata": {},
   "source": [
    "Este tutorial esta dirigido a documentar como se puede usar variables entre modulos y paquetes, primero empezaremos por el uso en modulos"
   ]
  },
  {
   "cell_type": "markdown",
   "metadata": {},
   "source": [
    "La clave del uso de las variables entre modulos y paquetes es el uso de \"global\" para definir varialble globales , en el siguiente codigo se define la función para ingreso de datos y las variables globales a y b , luego mediante input de manera dinamica se ingresa los datos.\n",
    "Tambien las funciones se definen sin parametros o valores ya que ello se van definiendo como parte del codigo"
   ]
  },
  {
   "cell_type": "code",
   "execution_count": 1,
   "metadata": {},
   "outputs": [],
   "source": [
    "def defdatos():\n",
    "    global a\n",
    "    global b\n",
    "    a=int(input(\"ingresa el 1 numero\"))\n",
    "    b=int(input(\"ingresa el 2 numero\"))\n",
    "    print(\"Para verificar\",a,b)\n",
    "   "
   ]
  },
  {
   "cell_type": "markdown",
   "metadata": {},
   "source": [
    "En la misma pagina, ya que estamos usando las variables entre funciones definimos una función o pragrama para el uso de las variables ingresadas"
   ]
  },
  {
   "cell_type": "code",
   "execution_count": 2,
   "metadata": {},
   "outputs": [],
   "source": [
    "def suma():\n",
    "    suma=a+b\n",
    "    print (\"la suma es\",suma)"
   ]
  },
  {
   "cell_type": "markdown",
   "metadata": {},
   "source": [
    "Finalmente escribimos el codigo o programa principal para llamar a las funciones, primero para ingreso de variables y luego para usar esas variables"
   ]
  },
  {
   "cell_type": "code",
   "execution_count": null,
   "metadata": {},
   "outputs": [],
   "source": [
    "def main():\n",
    "       \n",
    "    defdatos()\n",
    "    suma()\n",
    "\n",
    "    \n",
    "\"\"\"Ejecuto el programa principal\"\"\"   \n",
    "main()\n"
   ]
  },
  {
   "cell_type": "markdown",
   "metadata": {},
   "source": [
    "Finalmente todo el código quedaría de la siguiente manera"
   ]
  },
  {
   "cell_type": "code",
   "execution_count": 1,
   "metadata": {},
   "outputs": [],
   "source": [
    "def defdatos():\n",
    "    global a\n",
    "    global b\n",
    "    a=int(input(\"ingresa el 1 numero\"))\n",
    "    b=int(input(\"ingresa el 2 numero\"))\n",
    "    print(\"Para verificar\",a,b)\n",
    "\n",
    "def suma():\n",
    "        suma=a+b\n",
    "        print (\"la suma es\",suma)\n",
    "\n",
    "        \n",
    "def main():\n",
    "       \n",
    "    defdatos()\n",
    "    suma()\n",
    "\n",
    "    \n",
    "\"\"\"Ejecuto el programa principal\"\"\"   \n",
    "main()"
   ]
  }
 ],
 "metadata": {
  "kernelspec": {
   "display_name": "Python 3.8.8 64-bit",
   "language": "python",
   "name": "python3"
  },
  "language_info": {
   "codemirror_mode": {
    "name": "ipython",
    "version": 3
   },
   "file_extension": ".py",
   "mimetype": "text/x-python",
   "name": "python",
   "nbconvert_exporter": "python",
   "pygments_lexer": "ipython3",
   "version": "3.8.8"
  },
  "orig_nbformat": 4,
  "vscode": {
   "interpreter": {
    "hash": "b7c15d1b015202e5d3eaba9c2f1233e7a242cab053665d98c103a75cb2423c93"
   }
  }
 },
 "nbformat": 4,
 "nbformat_minor": 2
}
