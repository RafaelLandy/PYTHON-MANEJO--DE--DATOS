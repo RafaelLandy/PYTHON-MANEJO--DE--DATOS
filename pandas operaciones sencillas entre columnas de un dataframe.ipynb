{
 "cells": [
  {
   "cell_type": "markdown",
   "metadata": {},
   "source": [
    "# PANDAS OPERACIONES ENTRE COLUMNAS"
   ]
  },
  {
   "cell_type": "markdown",
   "metadata": {},
   "source": [
    "#### IMPORTAMOS LAS LIBRERIAS NECESARIA"
   ]
  },
  {
   "cell_type": "code",
   "execution_count": 1,
   "metadata": {},
   "outputs": [],
   "source": [
    "import os\n",
    "import pandas as pd\n",
    "import numpy as np"
   ]
  },
  {
   "cell_type": "markdown",
   "metadata": {},
   "source": [
    "#### LEEMOS LA TABLA EN FORMATO CSV Y VISUALIZAMOS"
   ]
  },
  {
   "cell_type": "code",
   "execution_count": 2,
   "metadata": {
    "scrolled": true
   },
   "outputs": [
    {
     "name": "stdout",
     "output_type": "stream",
     "text": [
      "      NOMBRE  NACIMIENTO   ACT\n",
      "0     RAFAEL        1971  2021\n",
      "1       JOSE        1981  2021\n",
      "2     MAGALY        1986  2021\n",
      "3    ROSARIO        1956  2021\n",
      "4      LIGIA        1940  2021\n",
      "5     RAQUEL        1935  2021\n",
      "6  ENRIQUETA        1983  2021\n"
     ]
    }
   ],
   "source": [
    "datos_df=pd.read_csv(\"C:/visual_studio/datos_csv/TABLA_PRUEBA.csv\") \n",
    "\n",
    "print(datos_df)"
   ]
  },
  {
   "cell_type": "markdown",
   "metadata": {},
   "source": [
    "#### SOBRE EL MISMO DATA FRAME datos_df AGREGAMOS LA COLUMNA EDAD CUYOS VALORES DEPENDE DE LA FORMULA \"ACT\"-\"NACIMIENTO\", AMBOS DE LA TABLA datos_df. Por ultimo visualizamos los datos"
   ]
  },
  {
   "cell_type": "code",
   "execution_count": 3,
   "metadata": {},
   "outputs": [
    {
     "name": "stdout",
     "output_type": "stream",
     "text": [
      "      NOMBRE  NACIMIENTO   ACT  EDAD\n",
      "0     RAFAEL        1971  2021    50\n",
      "1       JOSE        1981  2021    40\n",
      "2     MAGALY        1986  2021    35\n",
      "3    ROSARIO        1956  2021    65\n",
      "4      LIGIA        1940  2021    81\n",
      "5     RAQUEL        1935  2021    86\n",
      "6  ENRIQUETA        1983  2021    38\n"
     ]
    }
   ],
   "source": [
    "datos_df['EDAD']=(datos_df['ACT'])-(datos_df['NACIMIENTO'])\n",
    "print(datos_df)"
   ]
  }
 ],
 "metadata": {
  "kernelspec": {
   "display_name": "Python 3",
   "language": "python",
   "name": "python3"
  },
  "language_info": {
   "codemirror_mode": {
    "name": "ipython",
    "version": 3
   },
   "file_extension": ".py",
   "mimetype": "text/x-python",
   "name": "python",
   "nbconvert_exporter": "python",
   "pygments_lexer": "ipython3",
   "version": "3.8.5"
  }
 },
 "nbformat": 4,
 "nbformat_minor": 4
}
